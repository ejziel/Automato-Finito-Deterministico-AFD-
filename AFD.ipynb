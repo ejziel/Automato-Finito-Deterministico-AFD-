{
 "cells": [
  {
   "cell_type": "markdown",
   "metadata": {},
   "source": [
    "Este projeto consiste na implementação de um AFD (Autômato Finito Determinístico)."
   ]
  },
  {
   "cell_type": "markdown",
   "metadata": {},
   "source": [
    "As primeiras entradas são os estados e símbolos do AFD que serão armazenados como uma lista, bem como o número de transições."
   ]
  },
  {
   "cell_type": "code",
   "execution_count": null,
   "metadata": {},
   "outputs": [],
   "source": [
    "states = input().split(\" \")\n",
    "symbols = input().split(\" \")\n",
    "transitions_number = int(input())"
   ]
  },
  {
   "cell_type": "markdown",
   "metadata": {},
   "source": [
    "A estrutura de dados escolhida para tabela que contém as transiçoes do AFD foi uma tabela hash (dictonary no Python), quearmazena um par chave valor e possui complexidade de busca média de O(1)."
   ]
  },
  {
   "cell_type": "code",
   "execution_count": null,
   "metadata": {},
   "outputs": [],
   "source": [
    "afd = {}"
   ]
  },
  {
   "cell_type": "markdown",
   "metadata": {},
   "source": [
    "Para cada estado na AFD foi criada uma chave na tabela hash recém criada."
   ]
  },
  {
   "cell_type": "code",
   "execution_count": null,
   "metadata": {},
   "outputs": [],
   "source": [
    "for state in states:\n",
    "    afd[state] = {}"
   ]
  },
  {
   "cell_type": "markdown",
   "metadata": {},
   "source": [
    "Em seguida foram adicinadas as entradas das transições para cada estado, sendo <o,c,d> uma tripla onde ‘o’ é o estado de origem, ‘c’ é o caractere e ‘d’ é o estado de destino."
   ]
  },
  {
   "cell_type": "code",
   "execution_count": null,
   "metadata": {},
   "outputs": [],
   "source": [
    "for i in range(0, transitions_number):\n",
    "    o, c, d = input().split(\" \")\n",
    "    if c not in afd[o]:\n",
    "        afd[o][c] = d"
   ]
  },
  {
   "cell_type": "markdown",
   "metadata": {},
   "source": [
    "Demais entradas referentes a estado inicial e lista de estados finais, bem como palavras a serem reconhecidas."
   ]
  },
  {
   "cell_type": "code",
   "execution_count": null,
   "metadata": {},
   "outputs": [],
   "source": [
    "initial_state = input()\n",
    "final_states = input().split(\" \")\n",
    "worlds = input().split(\" \")"
   ]
  },
  {
   "cell_type": "markdown",
   "metadata": {},
   "source": [
    "O algoritmo responsável por reconhecer ou não uma palavra a partir da especificação do AFD fornecida nos passos anteriores foi construído da seguinte forma:\n",
    "Cada palavra fornecida para teste será percorrida caractere por caractere até o fim da string, verificando se existe a transição a partir do estado atual, esta verificação é feita a partir do acesso em duas tabelas hash que terá complexidade máxima de O(n) onde n é o tamanho da palavra de entrada. Caso a transição exista o novo estado atual será definido, caso não exista o AFD irá efetuar a transição para o estado de erro. Por fim é feita a verificação se o estado atual é de erro ou não é final, retornando \"N\" caso seja verdade e \"S\" caso não."
   ]
  },
  {
   "cell_type": "code",
   "execution_count": null,
   "metadata": {},
   "outputs": [],
   "source": [
    "for word in worlds:\n",
    "    current_state = initial_state\n",
    "    error_state = 0\n",
    "    for char in word:\n",
    "        try:\n",
    "            current_state = afd[current_state][char]\n",
    "        except KeyError:\n",
    "            error_state = 1\n",
    "            break\n",
    "    if(error_state == 1 or current_state not in final_states):\n",
    "        print('N')\n",
    "    else:\n",
    "        print('S')"
   ]
  }
 ],
 "metadata": {
  "kernelspec": {
   "display_name": "Python 3",
   "language": "python",
   "name": "python3"
  },
  "language_info": {
   "codemirror_mode": {
    "name": "ipython",
    "version": 3
   },
   "file_extension": ".py",
   "mimetype": "text/x-python",
   "name": "python",
   "nbconvert_exporter": "python",
   "pygments_lexer": "ipython3",
   "version": "3.8.5"
  }
 },
 "nbformat": 4,
 "nbformat_minor": 4
}
